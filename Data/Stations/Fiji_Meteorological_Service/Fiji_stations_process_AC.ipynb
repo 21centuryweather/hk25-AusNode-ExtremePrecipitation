{
 "cells": [
  {
   "cell_type": "code",
   "execution_count": 1,
   "id": "bb5a39fa-3f59-40bc-8fb4-c381b27be9d1",
   "metadata": {},
   "outputs": [],
   "source": [
    "import xarray as xr\n",
    "import numpy as np\n",
    "import pandas as pd\n",
    "import scipy.stats as st\n",
    "import cartopy.crs as ccrs\n",
    "import cartopy.feature as cfeature\n",
    "from cartopy.util import add_cyclic_point\n",
    "#import xesmf as xe\n",
    "import matplotlib.pyplot as plt\n",
    "import matplotlib.cm as cm\n",
    "#import cmocean.cm as cmo\n",
    "import os\n",
    "import glob\n",
    "from sys import exit, argv\n",
    "import netCDF4 as nc4\n",
    "from distributed import Client\n",
    "from h5py import File\n",
    "from pyhdf.SD import SD, SDC\n",
    "import re\n",
    "from datetime import datetime\n",
    "\n",
    "import matplotlib.pyplot as plt\n",
    "import cartopy.io.shapereader as shpreader\n"
   ]
  },
  {
   "cell_type": "code",
   "execution_count": 2,
   "id": "8ca05924-9dd2-4f32-892b-a4daf3ff3c56",
   "metadata": {
    "tags": []
   },
   "outputs": [
    {
     "name": "stderr",
     "output_type": "stream",
     "text": [
      "<>:2: SyntaxWarning: invalid escape sequence '\\ '\n",
      "<>:2: SyntaxWarning: invalid escape sequence '\\ '\n",
      "/var/folders/59/qvr_15gx75gfflmn_7cl52f40000gn/T/ipykernel_84590/1962769547.py:2: SyntaxWarning: invalid escape sequence '\\ '\n",
      "  data_path = '/Users/ashneelchandra/OneDrive\\ -\\ The\\ University\\ of\\ Melbourne/Graduate\\ Colloquium\\ -\\ Global\\ Hackathon/hackathon-2025-australia-node/Fiji_Meteorological_Service/'\n"
     ]
    }
   ],
   "source": [
    "#Path to data\n",
    "data_path = '/Users/ashneelchandra/OneDrive\\ -\\ The\\ University\\ of\\ Melbourne/Graduate\\ Colloquium\\ -\\ Global\\ Hackathon/hackathon-2025-australia-node/Fiji_Meteorological_Service/'\n"
   ]
  },
  {
   "cell_type": "code",
   "execution_count": null,
   "id": "31697d7b",
   "metadata": {},
   "outputs": [],
   "source": [
    "#Station locations (you can comment/uncomment the stations you do not need or need)\n",
    "\n",
    "#Suva (Manual)\n",
    "lat_station = -18.147571\n",
    "lon_station = 178.453610\n",
    "\n",
    "#Suva (AWS)\n",
    "lat_station = -18.147549\n",
    "lon_station = 178.453608\n",
    "\n",
    "#Lautoka (Manual)\n",
    "lat_station = -17.618600\n",
    "lon_station = 177.438900\n",
    "\n",
    "#Lautoka (TB3)\n",
    "lat_station = -17.618897\n",
    "lon_station = 177.438730\n",
    "\n",
    "#Penang (TB3)\n",
    "lat_station = -17.373833\n",
    "lon_station = 178.171619\n",
    "\n",
    "#Savusavu (Airport)\n",
    "lat_station = -16.806141\n",
    "lon_station = 179.342817\n",
    "\n",
    "#Labasa (Airport)\n",
    "lat_station = -16.468900\n",
    "lon_station = 179.339700"
   ]
  },
  {
   "cell_type": "code",
   "execution_count": null,
   "id": "ecc0632e",
   "metadata": {},
   "outputs": [],
   "source": [
    "# Plot Fiji map and station locations\n",
    "\n"
   ]
  },
  {
   "cell_type": "code",
   "execution_count": null,
   "id": "238d5b77",
   "metadata": {},
   "outputs": [],
   "source": []
  },
  {
   "cell_type": "code",
   "execution_count": null,
   "id": "06ba92ed",
   "metadata": {},
   "outputs": [],
   "source": []
  },
  {
   "cell_type": "code",
   "execution_count": null,
   "id": "18bd70bd",
   "metadata": {},
   "outputs": [],
   "source": []
  },
  {
   "cell_type": "code",
   "execution_count": null,
   "id": "b99f57d7",
   "metadata": {},
   "outputs": [],
   "source": []
  },
  {
   "cell_type": "code",
   "execution_count": null,
   "id": "bf64d09c",
   "metadata": {},
   "outputs": [],
   "source": []
  },
  {
   "cell_type": "code",
   "execution_count": null,
   "id": "b838fd48",
   "metadata": {},
   "outputs": [],
   "source": []
  },
  {
   "cell_type": "code",
   "execution_count": null,
   "id": "0b452fae",
   "metadata": {},
   "outputs": [],
   "source": []
  },
  {
   "cell_type": "code",
   "execution_count": null,
   "id": "af01e426",
   "metadata": {},
   "outputs": [],
   "source": []
  },
  {
   "cell_type": "code",
   "execution_count": null,
   "id": "c237ae97",
   "metadata": {},
   "outputs": [],
   "source": []
  }
 ],
 "metadata": {
  "kernelspec": {
   "display_name": "base",
   "language": "python",
   "name": "python3"
  },
  "language_info": {
   "codemirror_mode": {
    "name": "ipython",
    "version": 3
   },
   "file_extension": ".py",
   "mimetype": "text/x-python",
   "name": "python",
   "nbconvert_exporter": "python",
   "pygments_lexer": "ipython3",
   "version": "3.12.9"
  }
 },
 "nbformat": 4,
 "nbformat_minor": 5
}
