{
 "cells": [
  {
   "cell_type": "code",
   "execution_count": 18,
   "id": "4d8de87d-6f9d-4197-8529-fa3ca1fc38f6",
   "metadata": {},
   "outputs": [],
   "source": [
    "import pandas as pd"
   ]
  },
  {
   "cell_type": "markdown",
   "id": "6c91c106-9a2c-40d1-86e5-b2ce1548b852",
   "metadata": {},
   "source": [
    "# Fiji"
   ]
  },
  {
   "cell_type": "code",
   "execution_count": 19,
   "id": "6e8f2955-7a7e-4dc0-9c3d-38671be54e73",
   "metadata": {},
   "outputs": [],
   "source": [
    "# Define file paths\n",
    "file_paths = {\n",
    "    'Labasa': '/home/561/lk5320/hk25-AusNode-ExtremePrecipitation/Data/Processed/Fiji/labasa_airport_daily.csv',\n",
    "    'Lautoka': '/home/561/lk5320/hk25-AusNode-ExtremePrecipitation/Data/Processed/Fiji/lautoka_daily.csv',\n",
    "    'Penang': '/home/561/lk5320/hk25-AusNode-ExtremePrecipitation/Data/Processed/Fiji/penang_daily.csv',\n",
    "    'Savusavu': '/home/561/lk5320/hk25-AusNode-ExtremePrecipitation/Data/Processed/Fiji/savusavu_airport_daily.csv',\n",
    "    'Suva': '/home/561/lk5320/hk25-AusNode-ExtremePrecipitation/Data/Processed/Fiji/suva_daily.csv'\n",
    "}"
   ]
  },
  {
   "cell_type": "code",
   "execution_count": 21,
   "id": "6411d461-e22e-4491-9701-35ed09c1f6e4",
   "metadata": {},
   "outputs": [
    {
     "name": "stdout",
     "output_type": "stream",
     "text": [
      "          Total Rainfall (mm)\n",
      "Labasa                  861.4\n",
      "Lautoka                2430.7\n",
      "Penang                 3266.0\n",
      "Savusavu               1072.3\n",
      "Suva                   3676.6\n"
     ]
    }
   ],
   "source": [
    "\n",
    "# Date range\n",
    "start_date = '2020-03-01'\n",
    "end_date = '2021-02-28'\n",
    "\n",
    "# Dictionary to store results\n",
    "results = {}\n",
    "\n",
    "# Loop over each file\n",
    "for site, path in file_paths.items():\n",
    "    # Read CSV\n",
    "    df = pd.read_csv(path, parse_dates=['date'])\n",
    "    \n",
    "    # Set index to Date\n",
    "    df.set_index('date', inplace=True)\n",
    "    \n",
    "    # Ensure rainfall is numeric\n",
    "    df['daily_rainfall_mm'] = pd.to_numeric(df['daily_rainfall_mm'], errors='coerce')\n",
    "    \n",
    "    # Filter for desired date range\n",
    "    df_filtered = df.loc[start_date:end_date]\n",
    "    \n",
    "    # Compute total rainfall\n",
    "    total_rainfall = df_filtered['daily_rainfall_mm'].sum()\n",
    "    \n",
    "    # Store result\n",
    "    results[site] = round(total_rainfall, 2)\n",
    "\n",
    "# Convert results to DataFrame\n",
    "rainfall_summary = pd.DataFrame.from_dict(results, orient='index', columns=['Total Rainfall (mm)'])\n",
    "\n",
    "# Display table\n",
    "print(rainfall_summary)\n"
   ]
  },
  {
   "cell_type": "markdown",
   "id": "023cd95d-7655-4c64-b3b7-226edb8acd0d",
   "metadata": {},
   "source": [
    "# Sydney"
   ]
  },
  {
   "cell_type": "code",
   "execution_count": 28,
   "id": "e2f45376-8f80-4733-9293-69264c2ef290",
   "metadata": {},
   "outputs": [],
   "source": [
    "# Define file paths\n",
    "file_paths = {\n",
    "    'norah_head': '/home/561/lk5320/hk25-AusNode-ExtremePrecipitation/Data/Processed/Sydney/norah_daily.csv',\n",
    "    'richmond_raaf': '/home/561/lk5320/hk25-AusNode-ExtremePrecipitation/Data/Processed/Sydney/richmond_daily.csv',\n",
    "    'badgery': '/home/561/lk5320/hk25-AusNode-ExtremePrecipitation/Data/Processed/Sydney/badgery_daily.csv',\n",
    "    'sydney_airport': '/home/561/lk5320/hk25-AusNode-ExtremePrecipitation/Data/Processed/Sydney/sydney_daily.csv',\n",
    "    'bankstown_airport': '/home/561/lk5320/hk25-AusNode-ExtremePrecipitation/Data/Processed/Sydney/bankstown_daily.csv'\n",
    "}"
   ]
  },
  {
   "cell_type": "code",
   "execution_count": 31,
   "id": "40303501-f14c-45c1-8b38-b53c26ef8dfc",
   "metadata": {},
   "outputs": [
    {
     "name": "stdout",
     "output_type": "stream",
     "text": [
      "                   Total Rainfall (mm)\n",
      "norah_head                       773.4\n",
      "richmond_raaf                   1330.0\n",
      "badgery                          776.4\n",
      "sydney_airport                   905.8\n",
      "bankstown_airport                785.4\n"
     ]
    }
   ],
   "source": [
    "\n",
    "# Date range\n",
    "start_date = '2020-03-01'\n",
    "end_date = '2021-02-28'\n",
    "\n",
    "# Dictionary to store results\n",
    "results = {}\n",
    "\n",
    "# Loop over each file\n",
    "for site, path in file_paths.items():\n",
    "    # Read CSV\n",
    "    df = pd.read_csv(path, parse_dates=['Time'])\n",
    "    \n",
    "    # Set index to Date\n",
    "    df.set_index('Time', inplace=True)\n",
    "    \n",
    "    # Ensure rainfall is numeric\n",
    "    df['Precipitation'] = pd.to_numeric(df['Precipitation'], errors='coerce')\n",
    "    \n",
    "    # Filter for desired date range\n",
    "    df_filtered = df.loc[start_date:end_date]\n",
    "    \n",
    "    # Compute total rainfall\n",
    "    total_rainfall = df_filtered['Precipitation'].sum()\n",
    "    \n",
    "    # Store result\n",
    "    results[site] = round(total_rainfall, 2)\n",
    "\n",
    "# Convert results to DataFrame\n",
    "rainfall_summary = pd.DataFrame.from_dict(results, orient='index', columns=['Total Rainfall (mm)'])\n",
    "\n",
    "# Display table\n",
    "print(rainfall_summary)\n"
   ]
  },
  {
   "cell_type": "code",
   "execution_count": null,
   "id": "17fbe95a-fe8e-4015-a860-17c185623436",
   "metadata": {},
   "outputs": [],
   "source": []
  }
 ],
 "metadata": {
  "kernelspec": {
   "display_name": "Python 3 (ipykernel)",
   "language": "python",
   "name": "python3"
  },
  "language_info": {
   "codemirror_mode": {
    "name": "ipython",
    "version": 3
   },
   "file_extension": ".py",
   "mimetype": "text/x-python",
   "name": "python",
   "nbconvert_exporter": "python",
   "pygments_lexer": "ipython3",
   "version": "3.12.10"
  }
 },
 "nbformat": 4,
 "nbformat_minor": 5
}
