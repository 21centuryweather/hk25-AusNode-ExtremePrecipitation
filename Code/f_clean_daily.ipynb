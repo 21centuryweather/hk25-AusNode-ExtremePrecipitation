{
 "cells": [
  {
   "cell_type": "code",
   "execution_count": 1,
   "id": "3269ee0e-4ce3-4190-bb5a-4497588e0f29",
   "metadata": {
    "execution": {
     "iopub.execute_input": "2025-05-13T06:23:25.883550Z",
     "iopub.status.busy": "2025-05-13T06:23:25.883005Z",
     "iopub.status.idle": "2025-05-13T06:23:28.373962Z",
     "shell.execute_reply": "2025-05-13T06:23:28.373050Z",
     "shell.execute_reply.started": "2025-05-13T06:23:25.883496Z"
    }
   },
   "outputs": [],
   "source": [
    "import pandas as pd\n",
    "import numpy as np\n",
    "import os\n",
    "import matplotlib.pyplot as plt\n",
    "%matplotlib inline"
   ]
  },
  {
   "cell_type": "code",
   "execution_count": 2,
   "id": "5bd4c336-088d-4ef2-987a-d05b04bdc295",
   "metadata": {
    "execution": {
     "iopub.execute_input": "2025-05-13T06:23:31.104217Z",
     "iopub.status.busy": "2025-05-13T06:23:31.102945Z",
     "iopub.status.idle": "2025-05-13T06:23:37.405714Z",
     "shell.execute_reply": "2025-05-13T06:23:37.404660Z",
     "shell.execute_reply.started": "2025-05-13T06:23:31.104155Z"
    }
   },
   "outputs": [],
   "source": [
    "# There are five stations, each stored on different sheets\n",
    "# Download data for each station (remove first two rows as they do not contain data)\n",
    "data_string = \"hk25-AusNode-ExtremePrecipitation/Data/Stations/Fiji_Meteorological_Service/Daily Rainfall Data.xlsx\"\n",
    "suva_data = pd.read_excel(data_string, sheet_name='Suva_daily', skiprows=2, header=None)\n",
    "lautoka_data = pd.read_excel(data_string, sheet_name='Lautoka_daily', skiprows=2, header=None)\n",
    "savusavu_airport_data = pd.read_excel(data_string, sheet_name='Savusavu_Airport_daily', skiprows=2, header=None)\n",
    "labasa_airport_data = pd.read_excel(data_string, sheet_name='Labasa_Airport_daily', skiprows=2, header=None)\n",
    "penang_data = pd.read_excel(data_string, sheet_name='Penang_daily', skiprows=2, header=None)"
   ]
  },
  {
   "cell_type": "code",
   "execution_count": 3,
   "id": "25b96d65-df5b-49df-ac5a-eea73a0ff0d5",
   "metadata": {
    "execution": {
     "iopub.execute_input": "2025-05-13T06:23:39.491625Z",
     "iopub.status.busy": "2025-05-13T06:23:39.490904Z",
     "iopub.status.idle": "2025-05-13T06:23:39.506184Z",
     "shell.execute_reply": "2025-05-13T06:23:39.498929Z",
     "shell.execute_reply.started": "2025-05-13T06:23:39.491571Z"
    }
   },
   "outputs": [],
   "source": [
    "# Update headers\n",
    "suva_data.columns = ['date', 'daily_rainfall_mm','accumulation_period_days']\n",
    "lautoka_data.columns = ['date', 'daily_rainfall_mm','accumulation_period_days']\n",
    "savusavu_airport_data.columns = ['date', 'daily_rainfall_mm','accumulation_period_days']\n",
    "labasa_airport_data.columns = ['date', 'daily_rainfall_mm','accumulation_period_days']\n",
    "penang_data.columns = ['date', 'daily_rainfall_mm','accumulation_period_days']"
   ]
  },
  {
   "cell_type": "code",
   "execution_count": 4,
   "id": "bdb8ea33-b842-4daf-a59e-87e1677df019",
   "metadata": {
    "execution": {
     "iopub.execute_input": "2025-05-13T06:23:40.171694Z",
     "iopub.status.busy": "2025-05-13T06:23:40.170777Z",
     "iopub.status.idle": "2025-05-13T06:23:40.202582Z",
     "shell.execute_reply": "2025-05-13T06:23:40.201717Z",
     "shell.execute_reply.started": "2025-05-13T06:23:40.171628Z"
    }
   },
   "outputs": [
    {
     "name": "stdout",
     "output_type": "stream",
     "text": [
      "0\n",
      "0\n",
      "0\n",
      "0\n",
      "0\n"
     ]
    }
   ],
   "source": [
    "# Check for duplicate dates\n",
    "print(sum(suva_data.duplicated(subset=['date'])))\n",
    "print(sum(lautoka_data.duplicated(subset=['date'])))\n",
    "print(sum(savusavu_airport_data.duplicated(subset=['date'])))\n",
    "print(sum(labasa_airport_data.duplicated(subset=['date'])))\n",
    "print(sum(penang_data.duplicated(subset=['date'])))\n",
    "\n",
    "# No duplicate dates"
   ]
  },
  {
   "cell_type": "code",
   "execution_count": 5,
   "id": "834008a9-a444-4195-b7b2-965506944f90",
   "metadata": {
    "execution": {
     "iopub.execute_input": "2025-05-13T06:23:41.167087Z",
     "iopub.status.busy": "2025-05-13T06:23:41.166608Z",
     "iopub.status.idle": "2025-05-13T06:23:41.467333Z",
     "shell.execute_reply": "2025-05-13T06:23:41.466463Z",
     "shell.execute_reply.started": "2025-05-13T06:23:41.167044Z"
    }
   },
   "outputs": [
    {
     "name": "stdout",
     "output_type": "stream",
     "text": [
      "set()\n",
      "set()\n",
      "set()\n",
      "set()\n",
      "set()\n"
     ]
    }
   ],
   "source": [
    "# Define the date range (same for all datasets)\n",
    "start_date = '1990-01-01'\n",
    "end_date = '2022-12-31'\n",
    "date_range = pd.date_range(start=start_date, end=end_date)\n",
    "# Check for missing dates\n",
    "print(set(date_range) - set(suva_data['date']))\n",
    "print(set(date_range) - set(lautoka_data['date']))\n",
    "print(set(date_range) - set(savusavu_airport_data['date']))\n",
    "print(set(date_range) - set(labasa_airport_data['date']))\n",
    "print(set(date_range) - set(penang_data['date']))\n",
    "\n",
    "# No missing dates "
   ]
  },
  {
   "cell_type": "code",
   "execution_count": 6,
   "id": "04cd18de-0b8e-44cd-acf2-a8f6d3b5312e",
   "metadata": {
    "execution": {
     "iopub.execute_input": "2025-05-13T06:23:42.118106Z",
     "iopub.status.busy": "2025-05-13T06:23:42.117542Z",
     "iopub.status.idle": "2025-05-13T06:23:42.158431Z",
     "shell.execute_reply": "2025-05-13T06:23:42.157587Z",
     "shell.execute_reply.started": "2025-05-13T06:23:42.118053Z"
    }
   },
   "outputs": [
    {
     "data": {
      "text/html": [
       "<div>\n",
       "<style scoped>\n",
       "    .dataframe tbody tr th:only-of-type {\n",
       "        vertical-align: middle;\n",
       "    }\n",
       "\n",
       "    .dataframe tbody tr th {\n",
       "        vertical-align: top;\n",
       "    }\n",
       "\n",
       "    .dataframe thead th {\n",
       "        text-align: right;\n",
       "    }\n",
       "</style>\n",
       "<table border=\"1\" class=\"dataframe\">\n",
       "  <thead>\n",
       "    <tr style=\"text-align: right;\">\n",
       "      <th></th>\n",
       "      <th>date</th>\n",
       "      <th>daily_rainfall_mm</th>\n",
       "      <th>accumulation_period_days</th>\n",
       "    </tr>\n",
       "  </thead>\n",
       "  <tbody>\n",
       "    <tr>\n",
       "      <th>10210</th>\n",
       "      <td>2017-12-15</td>\n",
       "      <td>51.2</td>\n",
       "      <td>2.0</td>\n",
       "    </tr>\n",
       "    <tr>\n",
       "      <th>10275</th>\n",
       "      <td>2018-02-18</td>\n",
       "      <td>0.0</td>\n",
       "      <td>2.0</td>\n",
       "    </tr>\n",
       "    <tr>\n",
       "      <th>10568</th>\n",
       "      <td>2018-12-08</td>\n",
       "      <td>13.4</td>\n",
       "      <td>2.0</td>\n",
       "    </tr>\n",
       "    <tr>\n",
       "      <th>10604</th>\n",
       "      <td>2019-01-13</td>\n",
       "      <td>9.2</td>\n",
       "      <td>2.0</td>\n",
       "    </tr>\n",
       "    <tr>\n",
       "      <th>11892</th>\n",
       "      <td>2022-07-24</td>\n",
       "      <td>3.0</td>\n",
       "      <td>2.0</td>\n",
       "    </tr>\n",
       "  </tbody>\n",
       "</table>\n",
       "</div>"
      ],
      "text/plain": [
       "            date  daily_rainfall_mm  accumulation_period_days\n",
       "10210 2017-12-15               51.2                       2.0\n",
       "10275 2018-02-18                0.0                       2.0\n",
       "10568 2018-12-08               13.4                       2.0\n",
       "10604 2019-01-13                9.2                       2.0\n",
       "11892 2022-07-24                3.0                       2.0"
      ]
     },
     "execution_count": 6,
     "metadata": {},
     "output_type": "execute_result"
    }
   ],
   "source": [
    "# Split multi-day data across days (check that the previous or following days are blank)\n",
    "suva_data[suva_data.accumulation_period_days > 1]"
   ]
  },
  {
   "cell_type": "code",
   "execution_count": 7,
   "id": "51ed5bff-6780-4744-b088-18c4c51f3845",
   "metadata": {
    "execution": {
     "iopub.execute_input": "2025-05-13T06:23:43.136358Z",
     "iopub.status.busy": "2025-05-13T06:23:43.135804Z",
     "iopub.status.idle": "2025-05-13T06:23:43.153374Z",
     "shell.execute_reply": "2025-05-13T06:23:43.152101Z",
     "shell.execute_reply.started": "2025-05-13T06:23:43.136306Z"
    }
   },
   "outputs": [
    {
     "data": {
      "text/html": [
       "<div>\n",
       "<style scoped>\n",
       "    .dataframe tbody tr th:only-of-type {\n",
       "        vertical-align: middle;\n",
       "    }\n",
       "\n",
       "    .dataframe tbody tr th {\n",
       "        vertical-align: top;\n",
       "    }\n",
       "\n",
       "    .dataframe thead th {\n",
       "        text-align: right;\n",
       "    }\n",
       "</style>\n",
       "<table border=\"1\" class=\"dataframe\">\n",
       "  <thead>\n",
       "    <tr style=\"text-align: right;\">\n",
       "      <th></th>\n",
       "      <th>date</th>\n",
       "      <th>daily_rainfall_mm</th>\n",
       "      <th>accumulation_period_days</th>\n",
       "    </tr>\n",
       "  </thead>\n",
       "  <tbody>\n",
       "    <tr>\n",
       "      <th>9903</th>\n",
       "      <td>2017-02-11</td>\n",
       "      <td>90.2</td>\n",
       "      <td>2.0</td>\n",
       "    </tr>\n",
       "    <tr>\n",
       "      <th>9908</th>\n",
       "      <td>2017-02-16</td>\n",
       "      <td>60.5</td>\n",
       "      <td>2.0</td>\n",
       "    </tr>\n",
       "    <tr>\n",
       "      <th>10324</th>\n",
       "      <td>2018-04-08</td>\n",
       "      <td>140.5</td>\n",
       "      <td>2.0</td>\n",
       "    </tr>\n",
       "    <tr>\n",
       "      <th>11697</th>\n",
       "      <td>2022-01-10</td>\n",
       "      <td>533.8</td>\n",
       "      <td>2.0</td>\n",
       "    </tr>\n",
       "    <tr>\n",
       "      <th>11723</th>\n",
       "      <td>2022-02-05</td>\n",
       "      <td>215.0</td>\n",
       "      <td>2.0</td>\n",
       "    </tr>\n",
       "    <tr>\n",
       "      <th>11726</th>\n",
       "      <td>2022-02-08</td>\n",
       "      <td>140.2</td>\n",
       "      <td>2.0</td>\n",
       "    </tr>\n",
       "    <tr>\n",
       "      <th>12035</th>\n",
       "      <td>2022-12-14</td>\n",
       "      <td>134.2</td>\n",
       "      <td>3.0</td>\n",
       "    </tr>\n",
       "    <tr>\n",
       "      <th>12046</th>\n",
       "      <td>2022-12-25</td>\n",
       "      <td>68.5</td>\n",
       "      <td>3.0</td>\n",
       "    </tr>\n",
       "  </tbody>\n",
       "</table>\n",
       "</div>"
      ],
      "text/plain": [
       "            date  daily_rainfall_mm  accumulation_period_days\n",
       "9903  2017-02-11               90.2                       2.0\n",
       "9908  2017-02-16               60.5                       2.0\n",
       "10324 2018-04-08              140.5                       2.0\n",
       "11697 2022-01-10              533.8                       2.0\n",
       "11723 2022-02-05              215.0                       2.0\n",
       "11726 2022-02-08              140.2                       2.0\n",
       "12035 2022-12-14              134.2                       3.0\n",
       "12046 2022-12-25               68.5                       3.0"
      ]
     },
     "execution_count": 7,
     "metadata": {},
     "output_type": "execute_result"
    }
   ],
   "source": [
    "penang_data[penang_data.accumulation_period_days > 1]"
   ]
  },
  {
   "cell_type": "code",
   "execution_count": 8,
   "id": "202902f4-0ef8-4e18-ab74-ad3e1c078f4f",
   "metadata": {
    "execution": {
     "iopub.execute_input": "2025-05-13T06:23:43.639276Z",
     "iopub.status.busy": "2025-05-13T06:23:43.638871Z",
     "iopub.status.idle": "2025-05-13T06:23:43.654196Z",
     "shell.execute_reply": "2025-05-13T06:23:43.653062Z",
     "shell.execute_reply.started": "2025-05-13T06:23:43.639240Z"
    }
   },
   "outputs": [
    {
     "data": {
      "text/html": [
       "<div>\n",
       "<style scoped>\n",
       "    .dataframe tbody tr th:only-of-type {\n",
       "        vertical-align: middle;\n",
       "    }\n",
       "\n",
       "    .dataframe tbody tr th {\n",
       "        vertical-align: top;\n",
       "    }\n",
       "\n",
       "    .dataframe thead th {\n",
       "        text-align: right;\n",
       "    }\n",
       "</style>\n",
       "<table border=\"1\" class=\"dataframe\">\n",
       "  <thead>\n",
       "    <tr style=\"text-align: right;\">\n",
       "      <th></th>\n",
       "      <th>date</th>\n",
       "      <th>daily_rainfall_mm</th>\n",
       "      <th>accumulation_period_days</th>\n",
       "    </tr>\n",
       "  </thead>\n",
       "  <tbody>\n",
       "    <tr>\n",
       "      <th>10188</th>\n",
       "      <td>2017-11-23</td>\n",
       "      <td>4.3</td>\n",
       "      <td>2.0</td>\n",
       "    </tr>\n",
       "  </tbody>\n",
       "</table>\n",
       "</div>"
      ],
      "text/plain": [
       "            date  daily_rainfall_mm  accumulation_period_days\n",
       "10188 2017-11-23                4.3                       2.0"
      ]
     },
     "execution_count": 8,
     "metadata": {},
     "output_type": "execute_result"
    }
   ],
   "source": [
    "savusavu_airport_data[savusavu_airport_data.accumulation_period_days > 1]"
   ]
  },
  {
   "cell_type": "code",
   "execution_count": 9,
   "id": "3b7e9f3a-7e14-4710-909c-7a982fd6c784",
   "metadata": {
    "execution": {
     "iopub.execute_input": "2025-05-13T06:23:44.044158Z",
     "iopub.status.busy": "2025-05-13T06:23:44.043588Z",
     "iopub.status.idle": "2025-05-13T06:23:44.061455Z",
     "shell.execute_reply": "2025-05-13T06:23:44.059966Z",
     "shell.execute_reply.started": "2025-05-13T06:23:44.044106Z"
    }
   },
   "outputs": [
    {
     "data": {
      "text/html": [
       "<div>\n",
       "<style scoped>\n",
       "    .dataframe tbody tr th:only-of-type {\n",
       "        vertical-align: middle;\n",
       "    }\n",
       "\n",
       "    .dataframe tbody tr th {\n",
       "        vertical-align: top;\n",
       "    }\n",
       "\n",
       "    .dataframe thead th {\n",
       "        text-align: right;\n",
       "    }\n",
       "</style>\n",
       "<table border=\"1\" class=\"dataframe\">\n",
       "  <thead>\n",
       "    <tr style=\"text-align: right;\">\n",
       "      <th></th>\n",
       "      <th>date</th>\n",
       "      <th>daily_rainfall_mm</th>\n",
       "      <th>accumulation_period_days</th>\n",
       "    </tr>\n",
       "  </thead>\n",
       "  <tbody>\n",
       "    <tr>\n",
       "      <th>10326</th>\n",
       "      <td>2018-04-10</td>\n",
       "      <td>139.3</td>\n",
       "      <td>2.0</td>\n",
       "    </tr>\n",
       "  </tbody>\n",
       "</table>\n",
       "</div>"
      ],
      "text/plain": [
       "            date  daily_rainfall_mm  accumulation_period_days\n",
       "10326 2018-04-10              139.3                       2.0"
      ]
     },
     "execution_count": 9,
     "metadata": {},
     "output_type": "execute_result"
    }
   ],
   "source": [
    "lautoka_data[lautoka_data.accumulation_period_days > 1]"
   ]
  },
  {
   "cell_type": "code",
   "execution_count": 10,
   "id": "c999f13c-a708-4d87-9c7f-f0f80fac43b8",
   "metadata": {
    "execution": {
     "iopub.execute_input": "2025-05-13T06:23:44.503830Z",
     "iopub.status.busy": "2025-05-13T06:23:44.503443Z",
     "iopub.status.idle": "2025-05-13T06:23:44.509302Z",
     "shell.execute_reply": "2025-05-13T06:23:44.508533Z",
     "shell.execute_reply.started": "2025-05-13T06:23:44.503798Z"
    }
   },
   "outputs": [],
   "source": [
    "# Write a function to check that the days before store NaN values where the accumulation_period_days > 1\n",
    "def splitting_accumulation(data):\n",
    "    for ind in data[data.accumulation_period_days > 1].index:\n",
    "        days = data[data.accumulation_period_days > 1].accumulation_period_days[ind]\n",
    "        print(np.isnan((data[ind - int(days-1):ind]).daily_rainfall_mm))\n",
    "        rainfall_data = data[data.accumulation_period_days > 1].daily_rainfall_mm[ind]\n",
    "        data.loc[ind - int(days-1):ind+1, \"daily_rainfall_mm\"] = rainfall_data/days\n",
    "    return data"
   ]
  },
  {
   "cell_type": "code",
   "execution_count": 11,
   "id": "da50188f-d1cd-471a-8ad5-c62a7cd554ed",
   "metadata": {
    "execution": {
     "iopub.execute_input": "2025-05-13T06:23:45.742642Z",
     "iopub.status.busy": "2025-05-13T06:23:45.742175Z",
     "iopub.status.idle": "2025-05-13T06:23:45.799110Z",
     "shell.execute_reply": "2025-05-13T06:23:45.798277Z",
     "shell.execute_reply.started": "2025-05-13T06:23:45.742598Z"
    }
   },
   "outputs": [
    {
     "name": "stdout",
     "output_type": "stream",
     "text": [
      "Suva:\n",
      "10209    True\n",
      "Name: daily_rainfall_mm, dtype: bool\n",
      "10274    True\n",
      "Name: daily_rainfall_mm, dtype: bool\n",
      "10567    True\n",
      "Name: daily_rainfall_mm, dtype: bool\n",
      "10603    True\n",
      "Name: daily_rainfall_mm, dtype: bool\n",
      "11891    True\n",
      "Name: daily_rainfall_mm, dtype: bool\n",
      "Lautoka:\n",
      "10325    True\n",
      "Name: daily_rainfall_mm, dtype: bool\n",
      "Savusavu airport:\n",
      "10187    False\n",
      "Name: daily_rainfall_mm, dtype: bool\n",
      "Labasa airport:\n",
      "Penang:\n",
      "9902    True\n",
      "Name: daily_rainfall_mm, dtype: bool\n",
      "9907    True\n",
      "Name: daily_rainfall_mm, dtype: bool\n",
      "10323    True\n",
      "Name: daily_rainfall_mm, dtype: bool\n",
      "11696    True\n",
      "Name: daily_rainfall_mm, dtype: bool\n",
      "11722    True\n",
      "Name: daily_rainfall_mm, dtype: bool\n",
      "11725    True\n",
      "Name: daily_rainfall_mm, dtype: bool\n",
      "12033    True\n",
      "12034    True\n",
      "Name: daily_rainfall_mm, dtype: bool\n",
      "12044    True\n",
      "12045    True\n",
      "Name: daily_rainfall_mm, dtype: bool\n"
     ]
    }
   ],
   "source": [
    "# EDIT depending on whether accumulation function is used\n",
    "\n",
    "print(\"Suva:\")\n",
    "suva_data = splitting_accumulation(suva_data)\n",
    "print(\"Lautoka:\")\n",
    "lautoka_data = splitting_accumulation(lautoka_data)\n",
    "print(\"Savusavu airport:\")\n",
    "savusavu_airport_data = splitting_accumulation(savusavu_airport_data)\n",
    "print(\"Labasa airport:\")\n",
    "labasa_airport_data = splitting_accumulation(labasa_airport_data)\n",
    "print(\"Penang:\")\n",
    "penang_data = splitting_accumulation(penang_data)"
   ]
  },
  {
   "cell_type": "code",
   "execution_count": 19,
   "id": "9c1de1eb-6a4f-4bfa-b79a-a7847ee3a5a1",
   "metadata": {},
   "outputs": [],
   "source": []
  },
  {
   "cell_type": "code",
   "execution_count": 12,
   "id": "207b4bff-878e-4d3a-9288-70c5ad44384d",
   "metadata": {
    "execution": {
     "iopub.execute_input": "2025-05-13T06:23:50.829243Z",
     "iopub.status.busy": "2025-05-13T06:23:50.828685Z",
     "iopub.status.idle": "2025-05-13T06:23:50.849479Z",
     "shell.execute_reply": "2025-05-13T06:23:50.848799Z",
     "shell.execute_reply.started": "2025-05-13T06:23:50.829191Z"
    }
   },
   "outputs": [
    {
     "data": {
      "text/html": [
       "<div>\n",
       "<style scoped>\n",
       "    .dataframe tbody tr th:only-of-type {\n",
       "        vertical-align: middle;\n",
       "    }\n",
       "\n",
       "    .dataframe tbody tr th {\n",
       "        vertical-align: top;\n",
       "    }\n",
       "\n",
       "    .dataframe thead th {\n",
       "        text-align: right;\n",
       "    }\n",
       "</style>\n",
       "<table border=\"1\" class=\"dataframe\">\n",
       "  <thead>\n",
       "    <tr style=\"text-align: right;\">\n",
       "      <th></th>\n",
       "      <th>date</th>\n",
       "      <th>daily_rainfall_mm</th>\n",
       "      <th>accumulation_period_days</th>\n",
       "    </tr>\n",
       "  </thead>\n",
       "  <tbody>\n",
       "    <tr>\n",
       "      <th>8400</th>\n",
       "      <td>2012-12-31</td>\n",
       "      <td>NaN</td>\n",
       "      <td>NaN</td>\n",
       "    </tr>\n",
       "    <tr>\n",
       "      <th>9328</th>\n",
       "      <td>2015-07-17</td>\n",
       "      <td>NaN</td>\n",
       "      <td>NaN</td>\n",
       "    </tr>\n",
       "    <tr>\n",
       "      <th>9329</th>\n",
       "      <td>2015-07-18</td>\n",
       "      <td>NaN</td>\n",
       "      <td>NaN</td>\n",
       "    </tr>\n",
       "    <tr>\n",
       "      <th>9952</th>\n",
       "      <td>2017-04-01</td>\n",
       "      <td>NaN</td>\n",
       "      <td>NaN</td>\n",
       "    </tr>\n",
       "    <tr>\n",
       "      <th>10231</th>\n",
       "      <td>2018-01-05</td>\n",
       "      <td>NaN</td>\n",
       "      <td>1.0</td>\n",
       "    </tr>\n",
       "    <tr>\n",
       "      <th>10232</th>\n",
       "      <td>2018-01-06</td>\n",
       "      <td>NaN</td>\n",
       "      <td>1.0</td>\n",
       "    </tr>\n",
       "    <tr>\n",
       "      <th>10233</th>\n",
       "      <td>2018-01-07</td>\n",
       "      <td>NaN</td>\n",
       "      <td>1.0</td>\n",
       "    </tr>\n",
       "    <tr>\n",
       "      <th>10379</th>\n",
       "      <td>2018-06-02</td>\n",
       "      <td>NaN</td>\n",
       "      <td>1.0</td>\n",
       "    </tr>\n",
       "    <tr>\n",
       "      <th>10617</th>\n",
       "      <td>2019-01-26</td>\n",
       "      <td>NaN</td>\n",
       "      <td>NaN</td>\n",
       "    </tr>\n",
       "    <tr>\n",
       "      <th>11352</th>\n",
       "      <td>2021-01-30</td>\n",
       "      <td>NaN</td>\n",
       "      <td>NaN</td>\n",
       "    </tr>\n",
       "    <tr>\n",
       "      <th>11358</th>\n",
       "      <td>2021-02-05</td>\n",
       "      <td>NaN</td>\n",
       "      <td>1.0</td>\n",
       "    </tr>\n",
       "    <tr>\n",
       "      <th>11715</th>\n",
       "      <td>2022-01-28</td>\n",
       "      <td>NaN</td>\n",
       "      <td>NaN</td>\n",
       "    </tr>\n",
       "  </tbody>\n",
       "</table>\n",
       "</div>"
      ],
      "text/plain": [
       "            date  daily_rainfall_mm  accumulation_period_days\n",
       "8400  2012-12-31                NaN                       NaN\n",
       "9328  2015-07-17                NaN                       NaN\n",
       "9329  2015-07-18                NaN                       NaN\n",
       "9952  2017-04-01                NaN                       NaN\n",
       "10231 2018-01-05                NaN                       1.0\n",
       "10232 2018-01-06                NaN                       1.0\n",
       "10233 2018-01-07                NaN                       1.0\n",
       "10379 2018-06-02                NaN                       1.0\n",
       "10617 2019-01-26                NaN                       NaN\n",
       "11352 2021-01-30                NaN                       NaN\n",
       "11358 2021-02-05                NaN                       1.0\n",
       "11715 2022-01-28                NaN                       NaN"
      ]
     },
     "execution_count": 12,
     "metadata": {},
     "output_type": "execute_result"
    }
   ],
   "source": [
    "# Check for blank rainfall records after splitting multi-day data (to be aware of missing dates)\n",
    "suva_data[np.isnan(suva_data.daily_rainfall_mm) == True]"
   ]
  },
  {
   "cell_type": "code",
   "execution_count": 14,
   "id": "169b5482-67d8-4b38-bd79-ebffc9e74216",
   "metadata": {
    "execution": {
     "iopub.execute_input": "2025-05-13T06:24:08.854747Z",
     "iopub.status.busy": "2025-05-13T06:24:08.854184Z",
     "iopub.status.idle": "2025-05-13T06:24:08.875469Z",
     "shell.execute_reply": "2025-05-13T06:24:08.874900Z",
     "shell.execute_reply.started": "2025-05-13T06:24:08.854695Z"
    }
   },
   "outputs": [
    {
     "name": "stdout",
     "output_type": "stream",
     "text": [
      "False\n",
      "False\n",
      "272.0\n",
      "390.6\n",
      "False\n",
      "False\n"
     ]
    }
   ],
   "source": [
    "# Use record daily rainfall from BOM to check values above, and also check for negative rainfall values\n",
    "\n",
    "# No negative rainfall values according to min value = 0\n",
    "print(min(suva_data.daily_rainfall_mm) < 0)\n",
    "print(min(lautoka_data.daily_rainfall_mm) < 0)\n",
    "# Maximum rainfall ever recorded in a 24h period was 1,825mm in Foc Foc, La Réunion on 7-8 Jan 1966\n",
    "# http://www.bom.gov.au/water/designRainfalls/rainfallEvents/worldRecRainfall.shtml\n",
    "# Maximum does not exceed this according to max value = 272mm\n",
    "print(max(suva_data.daily_rainfall_mm))\n",
    "print(max(lautoka_data.daily_rainfall_mm))\n",
    "print(max(suva_data.daily_rainfall_mm) > 1825)\n",
    "print(max(lautoka_data.daily_rainfall_mm) > 1825)"
   ]
  },
  {
   "cell_type": "code",
   "execution_count": 51,
   "id": "0fca02eb-2f39-4d28-b6e2-658f47fe1f45",
   "metadata": {},
   "outputs": [
    {
     "data": {
      "text/html": [
       "<div>\n",
       "<style scoped>\n",
       "    .dataframe tbody tr th:only-of-type {\n",
       "        vertical-align: middle;\n",
       "    }\n",
       "\n",
       "    .dataframe tbody tr th {\n",
       "        vertical-align: top;\n",
       "    }\n",
       "\n",
       "    .dataframe thead th {\n",
       "        text-align: right;\n",
       "    }\n",
       "</style>\n",
       "<table border=\"1\" class=\"dataframe\">\n",
       "  <thead>\n",
       "    <tr style=\"text-align: right;\">\n",
       "      <th></th>\n",
       "      <th>date</th>\n",
       "      <th>daily_rainfall_mm</th>\n",
       "      <th>accumulation_period_days</th>\n",
       "    </tr>\n",
       "  </thead>\n",
       "  <tbody>\n",
       "    <tr>\n",
       "      <th>0</th>\n",
       "      <td>1990-01-01</td>\n",
       "      <td>0.0</td>\n",
       "      <td>1.0</td>\n",
       "    </tr>\n",
       "    <tr>\n",
       "      <th>1</th>\n",
       "      <td>1990-01-02</td>\n",
       "      <td>0.0</td>\n",
       "      <td>1.0</td>\n",
       "    </tr>\n",
       "    <tr>\n",
       "      <th>2</th>\n",
       "      <td>1990-01-03</td>\n",
       "      <td>0.0</td>\n",
       "      <td>1.0</td>\n",
       "    </tr>\n",
       "    <tr>\n",
       "      <th>3</th>\n",
       "      <td>1990-01-04</td>\n",
       "      <td>5.8</td>\n",
       "      <td>1.0</td>\n",
       "    </tr>\n",
       "    <tr>\n",
       "      <th>4</th>\n",
       "      <td>1990-01-05</td>\n",
       "      <td>7.6</td>\n",
       "      <td>1.0</td>\n",
       "    </tr>\n",
       "    <tr>\n",
       "      <th>...</th>\n",
       "      <td>...</td>\n",
       "      <td>...</td>\n",
       "      <td>...</td>\n",
       "    </tr>\n",
       "    <tr>\n",
       "      <th>12048</th>\n",
       "      <td>2022-12-27</td>\n",
       "      <td>22.9</td>\n",
       "      <td>1.0</td>\n",
       "    </tr>\n",
       "    <tr>\n",
       "      <th>12049</th>\n",
       "      <td>2022-12-28</td>\n",
       "      <td>0.0</td>\n",
       "      <td>1.0</td>\n",
       "    </tr>\n",
       "    <tr>\n",
       "      <th>12050</th>\n",
       "      <td>2022-12-29</td>\n",
       "      <td>60.2</td>\n",
       "      <td>1.0</td>\n",
       "    </tr>\n",
       "    <tr>\n",
       "      <th>12051</th>\n",
       "      <td>2022-12-30</td>\n",
       "      <td>1.4</td>\n",
       "      <td>1.0</td>\n",
       "    </tr>\n",
       "    <tr>\n",
       "      <th>12052</th>\n",
       "      <td>2022-12-31</td>\n",
       "      <td>3.6</td>\n",
       "      <td>1.0</td>\n",
       "    </tr>\n",
       "  </tbody>\n",
       "</table>\n",
       "<p>12053 rows × 3 columns</p>\n",
       "</div>"
      ],
      "text/plain": [
       "            date  daily_rainfall_mm  accumulation_period_days\n",
       "0     1990-01-01                0.0                       1.0\n",
       "1     1990-01-02                0.0                       1.0\n",
       "2     1990-01-03                0.0                       1.0\n",
       "3     1990-01-04                5.8                       1.0\n",
       "4     1990-01-05                7.6                       1.0\n",
       "...          ...                ...                       ...\n",
       "12048 2022-12-27               22.9                       1.0\n",
       "12049 2022-12-28                0.0                       1.0\n",
       "12050 2022-12-29               60.2                       1.0\n",
       "12051 2022-12-30                1.4                       1.0\n",
       "12052 2022-12-31                3.6                       1.0\n",
       "\n",
       "[12053 rows x 3 columns]"
      ]
     },
     "execution_count": 51,
     "metadata": {},
     "output_type": "execute_result"
    }
   ],
   "source": [
    "suva_data"
   ]
  },
  {
   "cell_type": "code",
   "execution_count": 15,
   "id": "f299ca56-a1fb-475c-a1d0-39186b707719",
   "metadata": {
    "execution": {
     "iopub.execute_input": "2025-05-13T06:24:15.292869Z",
     "iopub.status.busy": "2025-05-13T06:24:15.291950Z",
     "iopub.status.idle": "2025-05-13T06:28:35.956246Z",
     "shell.execute_reply": "2025-05-13T06:28:35.955356Z",
     "shell.execute_reply.started": "2025-05-13T06:24:15.292813Z"
    }
   },
   "outputs": [
    {
     "data": {
      "text/plain": [
       "<Axes: xlabel='date'>"
      ]
     },
     "execution_count": 15,
     "metadata": {},
     "output_type": "execute_result"
    },
    {
     "data": {
      "image/png": "[encoded data removed]",
      "text/plain": [
       "<Figure size 640x480 with 1 Axes>"
      ]
     },
     "metadata": {},
     "output_type": "display_data"
    }
   ],
   "source": [
    "lautoka_data.plot('date', 'daily_rainfall_mm')"
   ]
  },
  {
   "cell_type": "code",
   "execution_count": 17,
   "id": "acd61458-b222-41cb-9506-dc206c769ea7",
   "metadata": {
    "execution": {
     "iopub.execute_input": "2025-05-13T06:28:55.314119Z",
     "iopub.status.busy": "2025-05-13T06:28:55.313903Z",
     "iopub.status.idle": "2025-05-13T06:28:55.356858Z",
     "shell.execute_reply": "2025-05-13T06:28:55.355909Z",
     "shell.execute_reply.started": "2025-05-13T06:28:55.314096Z"
    }
   },
   "outputs": [],
   "source": [
    "# Save data\n",
    "lautoka_data.to_csv('hk25-AusNode-ExtremePrecipitation/Data/Processed/Fiji/lautoka_data.csv', index=False)"
   ]
  },
  {
   "cell_type": "code",
   "execution_count": null,
   "id": "88285983-5995-4b38-b75d-c8f1841987b3",
   "metadata": {},
   "outputs": [],
   "source": []
  },
  {
   "cell_type": "code",
   "execution_count": 17,
   "id": "f6c0372a-7f77-4d50-ad69-ade05d28339c",
   "metadata": {},
   "outputs": [
    {
     "data": {
      "text/plain": [
       "<Axes: >"
      ]
     },
     "execution_count": 17,
     "metadata": {},
     "output_type": "execute_result"
    },
    {
     "data": {
      "image/png": "[encoded data removed]",
      "text/plain": [
       "<Figure size 640x480 with 1 Axes>"
      ]
     },
     "metadata": {},
     "output_type": "display_data"
    }
   ],
   "source": [
    "# Box plot to check for outliers\n",
    "suva_data.boxplot(column='daily_rainfall_mm')"
   ]
  },
  {
   "cell_type": "code",
   "execution_count": null,
   "id": "15056f34-84ce-4efd-87fc-bc81946123e9",
   "metadata": {},
   "outputs": [],
   "source": [
    "# Where outliers exist, check flooding reports"
   ]
  },
  {
   "cell_type": "code",
   "execution_count": null,
   "id": "558ef74a-4bf4-4707-83a7-5e4767ddcc7b",
   "metadata": {},
   "outputs": [],
   "source": [
    "# Repeat sense checks of records based on monthly and annual data totals"
   ]
  }
 ],
 "metadata": {
  "kernelspec": {
   "display_name": "hackathon_kernel",
   "language": "python",
   "name": "hackathon_env"
  },
  "language_info": {
   "codemirror_mode": {
    "name": "ipython",
    "version": 3
   },
   "file_extension": ".py",
   "mimetype": "text/x-python",
   "name": "python",
   "nbconvert_exporter": "python",
   "pygments_lexer": "ipython3",
   "version": "3.10.14"
  }
 },
 "nbformat": 4,
 "nbformat_minor": 5
}
