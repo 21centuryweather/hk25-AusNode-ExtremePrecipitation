{
 "cells": [
  {
   "cell_type": "code",
   "execution_count": 4,
   "id": "1bca5c08-e6de-471e-9f94-a17ab7e33efa",
   "metadata": {},
   "outputs": [],
   "source": [
    "import numpy as np\n",
    "import matplotlib.pyplot as plt\n",
    "import matplotlib.colors as mcolors\n",
    "import healpy as hp\n",
    "from pathlib import Path\n",
    "import xarray as xr\n",
    "import easygems.healpix as egh\n",
    "import pandas as pd\n",
    "\n",
    "import imageio\n",
    "import os\n",
    "\n",
    "import cartopy.crs as ccrs\n",
    "import cartopy.feature as cfeature"
   ]
  },
  {
   "cell_type": "code",
   "execution_count": 6,
   "id": "d54e750c-50f6-4933-8c73-48391895a9d3",
   "metadata": {},
   "outputs": [],
   "source": [
    "# Define the path to the Zarr dataset\n",
    "# Open the Zarr store using xarray\n",
    "\n",
    "zoom_levels = [3,4,5,6,7,8,9,10]\n",
    "temp_res = 1\n",
    "\n",
    "# UK MODEL ################################\n",
    "zoom = 3; path = '/g/data/qx55/uk_node/glm.n2560_RAL3p3/data.healpix.PT%iH.z%i.zarr' % (temp_res, zoom)\n",
    "ds_3 = xr.open_zarr(path)\n",
    "\n",
    "zoom = 4; path = '/g/data/qx55/uk_node/glm.n2560_RAL3p3/data.healpix.PT%iH.z%i.zarr' % (temp_res, zoom)\n",
    "ds_4 = xr.open_zarr(path)\n",
    "\n",
    "zoom = 5; path = '/g/data/qx55/uk_node/glm.n2560_RAL3p3/data.healpix.PT%iH.z%i.zarr' % (temp_res, zoom)\n",
    "ds_5 = xr.open_zarr(path)\n",
    "\n",
    "zoom = 6; path = '/g/data/qx55/uk_node/glm.n2560_RAL3p3/data.healpix.PT%iH.z%i.zarr' % (temp_res, zoom)\n",
    "ds_6 = xr.open_zarr(path)\n",
    "\n",
    "zoom = 7; path = '/g/data/qx55/uk_node/glm.n2560_RAL3p3/data.healpix.PT%iH.z%i.zarr' % (temp_res, zoom)\n",
    "ds_7 = xr.open_zarr(path)\n",
    "\n",
    "zoom = 8; path = '/g/data/qx55/uk_node/glm.n2560_RAL3p3/data.healpix.PT%iH.z%i.zarr' % (temp_res, zoom)\n",
    "ds_8 = xr.open_zarr(path)\n",
    "\n",
    "zoom = 9; path = '/g/data/qx55/uk_node/glm.n2560_RAL3p3/data.healpix.PT%iH.z%i.zarr' % (temp_res, zoom)\n",
    "ds_9 = xr.open_zarr(path)\n",
    "\n",
    "zoom = 10; path = '/g/data/qx55/uk_node/glm.n2560_RAL3p3/data.healpix.PT%iH.z%i.zarr' % (temp_res, zoom)\n",
    "ds_10 = xr.open_zarr(path)\n",
    "\n",
    "\n",
    "# GERMAN MODEL ################################\n",
    "\n",
    "\n",
    "zoom = 10; path = '/g/data/qx55/germany_node/d3hp003.zarr/PT1H_point_z%i_atm.zarr' % zoom\n",
    "ds_10_g = xr.open_zarr(path)\n",
    "\n"
   ]
  },
  {
   "cell_type": "code",
   "execution_count": 64,
   "id": "10d89930-7c48-4e50-9a13-eb6907847bb8",
   "metadata": {},
   "outputs": [],
   "source": [
    "# Set extent for sydney and fiji\n",
    "lon_min = 144.690354\n",
    "lon_max = 180\n",
    "lat_min = -36.248889\n",
    "lat_max = -13.643936\n",
    "\n",
    "\n",
    "# Set extent for maritime continent\n",
    "#shift_val = 360\n",
    "lon_min = 128.132840\n",
    "lon_max = -155.331704\n",
    "lat_min = -39.753870\n",
    "lat_max = 4.179808"
   ]
  },
  {
   "cell_type": "code",
   "execution_count": 59,
   "id": "5e71ce1a-d749-4a8d-947e-e37e6e11258d",
   "metadata": {},
   "outputs": [],
   "source": [
    "# Subset to our time range of interest\n",
    "start_date = \"2020-03-01\"\n",
    "finish_date = \"2021-02-28\""
   ]
  },
  {
   "cell_type": "code",
   "execution_count": 65,
   "id": "c64dbcfd-0b8b-4ea5-89c0-ad33d1257acc",
   "metadata": {},
   "outputs": [
    {
     "name": "stderr",
     "output_type": "stream",
     "text": [
      "INFO:flox:Entering _validate_reindex: reindex is None\n",
      "INFO:flox:Leaving _validate_reindex: method = None, returning None\n",
      "INFO:flox:_choose_engine: Choosing 'flox'\n",
      "INFO:flox:find_group_cohorts: cohorts is preferred, chunking is perfect.\n",
      "INFO:flox:_choose_method: method is None\n",
      "INFO:flox:_choose_method: choosing preferred_method=cohorts\n",
      "INFO:flox:Entering _validate_reindex: reindex is None\n",
      "INFO:flox:Leaving _validate_reindex: reindex is False\n"
     ]
    },
    {
     "name": "stdout",
     "output_type": "stream",
     "text": [
      "<xarray.DataArray 'pr' (time: 365, cell: 12582912)> Size: 37GB\n",
      "dask.array<astype, shape=(365, 12582912), dtype=int64, chunksize=(1, 1048576), chunktype=numpy.ndarray>\n",
      "Coordinates:\n",
      "  * cell     (cell) int64 101MB 0 1 2 3 ... 12582908 12582909 12582910 12582911\n",
      "    crs      float64 8B ...\n",
      "  * time     (time) datetime64[ns] 3kB 2020-03-01 2020-03-02 ... 2021-02-28\n"
     ]
    }
   ],
   "source": [
    "pr = ds_10.pr * 60*60 # kg m-2 s-1 to mm / hr, not subsetted\n",
    "time_global = pr.sel(time=slice(start_date, finish_date))\n",
    "daily_total = time_global.resample(time='1D').sum()\n",
    "daily_values = daily_total.where(daily_total > 0.2)\n",
    "daily_mask = (daily_total > 0.2).astype(int)\n",
    "print(daily_mask)\n"
   ]
  },
  {
   "cell_type": "code",
   "execution_count": null,
   "id": "af24d0d9-e0fa-4b5a-8d8c-a193128b7b3b",
   "metadata": {},
   "outputs": [],
   "source": [
    "frames = range(1,365)\n",
    "\n",
    "for i in frames:\n",
    "    # Get data\n",
    "    data = daily_values.isel(time=i)\n",
    "\n",
    "    # Start a new figure with Cartopy projection\n",
    "    central_longitude = 180\n",
    "    projection = ccrs.PlateCarree(central_longitude=central_longitude)\n",
    "    fig, ax = plt.subplots(figsize=(10, 5), subplot_kw={'projection': projection})\n",
    "\n",
    "    vmin = 0\n",
    "    vmax = 350\n",
    "    colours = [(1, 1, 1), (0, 0, 1)]  # White to blue\n",
    "    cmap_name = 'white_blue'\n",
    "    custom_cmap = mcolors.LinearSegmentedColormap.from_list(cmap_name, colours, N=256)\n",
    "    ax.set_global()\n",
    "    custom_cmap = 'jet'\n",
    "    im = egh.healpix_show(data.values, ax=ax, cmap=custom_cmap, vmin=vmin, vmax=vmax)\n",
    "    ax.coastlines()\n",
    "\n",
    "    ax.set_extent([lon_min, lon_max, lat_min, lat_max], crs=ccrs.PlateCarree())\n",
    "\n",
    "    # Coordinates for Sydney and Fiji\n",
    "    sydney_lon, sydney_lat = 151.2093, -33.8688\n",
    "    fiji_lon, fiji_lat = 178.0650, -17.7134\n",
    "\n",
    "    # Plot points\n",
    "    ax.plot(sydney_lon, sydney_lat, 'ro', markersize=5, label='Sydney', transform=ccrs.PlateCarree())\n",
    "    ax.plot(fiji_lon, fiji_lat, 'ro', markersize=5, label='Fiji', transform=ccrs.PlateCarree())\n",
    "\n",
    "    # Optionally add labels\n",
    "    ax.text(sydney_lon - 1, sydney_lat + 1, 'Sydney', color='red', fontsize=10, transform=ccrs.PlateCarree())\n",
    "    ax.text(fiji_lon - 1, fiji_lat + 1, 'Fiji', color='red', fontsize=10, transform=ccrs.PlateCarree())\n",
    "\n",
    "    # Add colorbar\n",
    "    cbar = fig.colorbar(im, ax=ax, orientation='vertical', shrink=0.7)\n",
    "    cbar.set_label(\"Daily Precipitation (mm)\")\n",
    "\n",
    "    timestamp = pd.to_datetime(daily_mask.time[i].values)\n",
    "    ax.set_title(f\"Daily Precipitation on {timestamp:%Y-%m-%d}\")\n",
    "    fname = f\"hk25-AusNode-ExtremePrecipitation/Plots/Fiji_gif_frames/frame_{i:04d}.png\"\n",
    "    plt.savefig(fname, dpi=150, bbox_inches='tight')\n",
    "    plt.close()\n"
   ]
  },
  {
   "cell_type": "code",
   "execution_count": 57,
   "id": "24653adf-9576-49fc-bd92-47247a1aa007",
   "metadata": {},
   "outputs": [
    {
     "name": "stderr",
     "output_type": "stream",
     "text": [
      "/jobfs/141074340.gadi-pbs/ipykernel_426550/2706900582.py:5: DeprecationWarning: Starting with ImageIO v3 the behavior of this function will switch to that of iio.v3.imread. To keep the current behavior (and make this warning disappear) use `import imageio.v2 as imageio` or call `imageio.v2.imread` directly.\n",
      "  image = imageio.imread(fname)\n"
     ]
    }
   ],
   "source": [
    "# Create the animation\n",
    "with imageio.get_writer(\"hk25-AusNode-ExtremePrecipitation/Plots/Precip_animation_UMz10_greater.gif\", mode=\"I\", duration=0.5) as writer:\n",
    "    for i in frames:\n",
    "        fname = f\"hk25-AusNode-ExtremePrecipitation/Plots/Fiji_gif_frames/frame_{i:04d}.png\"\n",
    "        image = imageio.imread(fname)\n",
    "        writer.append_data(image)"
   ]
  }
 ],
 "metadata": {
  "kernelspec": {
   "display_name": "hackathon_kernel",
   "language": "python",
   "name": "hackathon_env"
  },
  "language_info": {
   "codemirror_mode": {
    "name": "ipython",
    "version": 3
   },
   "file_extension": ".py",
   "mimetype": "text/x-python",
   "name": "python",
   "nbconvert_exporter": "python",
   "pygments_lexer": "ipython3",
   "version": "3.10.14"
  }
 },
 "nbformat": 4,
 "nbformat_minor": 5
}
