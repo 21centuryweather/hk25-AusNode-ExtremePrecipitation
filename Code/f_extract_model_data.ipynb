{
 "cells": [
  {
   "cell_type": "code",
   "execution_count": 26,
   "id": "c4266ae2-4ec9-43e2-9629-383b51b1feb3",
   "metadata": {},
   "outputs": [],
   "source": [
    "import numpy as np\n",
    "import matplotlib.pyplot as plt\n",
    "import healpy as hp\n",
    "from pathlib import Path\n",
    "import xarray as xr\n",
    "import easygems.healpix as egh\n",
    "import pandas as pd\n",
    "import os"
   ]
  },
  {
   "cell_type": "code",
   "execution_count": 27,
   "id": "ad6f45cd-8eaf-4db1-9e7b-0194580e1eb9",
   "metadata": {},
   "outputs": [],
   "source": [
    "\n",
    "# ==== Utility functions ====\n",
    "def get_nn_lon_lat_point(nside, lon, lat):\n",
    "    return hp.ang2pix(nside, lon, lat, nest=True, lonlat=True)\n",
    "\n",
    "def get_pix_indices_for_points(nside, points):\n",
    "    return [get_nn_lon_lat_point(nside, lon, lat) for lon, lat in points]\n",
    "\n",
    "\n"
   ]
  },
  {
   "cell_type": "code",
   "execution_count": 28,
   "id": "c3492fb1-76a2-4a18-a945-01f2c1d08313",
   "metadata": {},
   "outputs": [],
   "source": [
    "# ==== Station info ====\n",
    "points = [\n",
    "    (178.453610, -18.147571),  # Suva (Manual)\n",
    "    (178.453608, -18.147549),  # Suva (AWS)\n",
    "    (177.438900, -17.618600),  # Lautoka (Manual)\n",
    "    (177.438730, -17.618897),  # Lautoka (TB3)\n",
    "    (178.171619, -17.373833),  # Penang (TB3)\n",
    "    (179.342817, -16.806141),  # Savusavu (Airport)\n",
    "    (179.339700, -16.468900),  # Labasa (Airport)\n",
    "]\n",
    "## name of station \n",
    "names = [\n",
    "    'Suva (Manual)', 'Suva (AWS)', 'Lautoka (Manual)', 'Lautoka (TB3)',\n",
    "    'Penang (TB3)', 'Savusavu (Airport)', 'Labasa (Airport)'\n",
    "]\n"
   ]
  },
  {
   "cell_type": "code",
   "execution_count": 29,
   "id": "33772f57-6422-47ce-9b54-512a668fafe0",
   "metadata": {},
   "outputs": [],
   "source": [
    "# ==== Parameters ====\n",
    "zoom_levels = range(3, 11)\n",
    "temp_res = 1\n",
    "time_slice = slice('2020-03', '2021-02')\n",
    "output_dir = \"excel_exports\"\n",
    "os.makedirs(output_dir, exist_ok=True)\n",
    "\n"
   ]
  },
  {
   "cell_type": "code",
   "execution_count": 30,
   "id": "0964efe4-c0c1-47fb-8d4a-f86d06eb4816",
   "metadata": {},
   "outputs": [],
   "source": [
    "# ==== Load datasets ====\n",
    "ds_dict = {}\n",
    "for zoom in zoom_levels:\n",
    "    path = f'/g/data/qx55/uk_node/glm.n2560_RAL3p3/data.healpix.PT{temp_res}H.z{zoom}.zarr'\n",
    "    ds = xr.open_zarr(path)\n",
    "    ds_dict[zoom] = ds['pr']  # Use the 'pr' variable\n"
   ]
  },
  {
   "cell_type": "code",
   "execution_count": 31,
   "id": "2d55e7dd-579c-4874-a0d9-ec781bea08ed",
   "metadata": {},
   "outputs": [
    {
     "name": "stdout",
     "output_type": "stream",
     "text": [
      "Processing zoom level 3...\n",
      "Processing zoom level 4...\n",
      "Processing zoom level 5...\n",
      "Processing zoom level 6...\n",
      "Processing zoom level 7...\n",
      "Processing zoom level 8...\n",
      "Processing zoom level 9...\n",
      "Processing zoom level 10...\n",
      "✅ All files exported to Excel.\n"
     ]
    }
   ],
   "source": [
    "# ==== Extract and export ====\n",
    "for zoom in zoom_levels:\n",
    "    print(f\"Processing zoom level {zoom}...\")\n",
    "    nside = 2 ** zoom\n",
    "    pix_indices = get_pix_indices_for_points(nside, points)\n",
    "\n",
    "    pr_um = ds_dict[zoom] * 3600  # Convert to mm/hr\n",
    "    pr_um_daily = pr_um.sel(time=time_slice)\n",
    "\n",
    "    for name, pix_index in zip(names, pix_indices):\n",
    "        pr_point = pr_um_daily.isel(cell=pix_index)\n",
    "        df = pr_point.to_dataframe(name='value').reset_index()[['time', 'value']]\n",
    "        \n",
    "        filename = f\"uk_node_{name.replace(' ', '_').replace('(', '').replace(')', '')}_z{zoom}.csv\"\n",
    "        df.to_csv(filename, index=False)\n",
    "\n",
    "print(\"✅ All files exported to Excel.\")"
   ]
  },
  {
   "cell_type": "code",
   "execution_count": null,
   "id": "3d2f31e6-9dd4-4227-aab9-75de355cab48",
   "metadata": {},
   "outputs": [],
   "source": []
  }
 ],
 "metadata": {
  "kernelspec": {
   "display_name": "digital_earths_kernel",
   "language": "python",
   "name": "digital_earths_venv"
  },
  "language_info": {
   "codemirror_mode": {
    "name": "ipython",
    "version": 3
   },
   "file_extension": ".py",
   "mimetype": "text/x-python",
   "name": "python",
   "nbconvert_exporter": "python",
   "pygments_lexer": "ipython3",
   "version": "3.12.10"
  }
 },
 "nbformat": 4,
 "nbformat_minor": 5
}
