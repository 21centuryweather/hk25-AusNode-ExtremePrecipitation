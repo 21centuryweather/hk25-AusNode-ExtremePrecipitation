{
 "cells": [
  {
   "cell_type": "code",
   "execution_count": 7,
   "id": "c4266ae2-4ec9-43e2-9629-383b51b1feb3",
   "metadata": {},
   "outputs": [],
   "source": [
    "import numpy as np\n",
    "import matplotlib.pyplot as plt\n",
    "import healpy as hp\n",
    "from pathlib import Path\n",
    "import xarray as xr\n",
    "import easygems.healpix as egh\n",
    "import pandas as pd"
   ]
  },
  {
   "cell_type": "code",
   "execution_count": 3,
   "id": "d03a111d-d6a5-4879-a388-742647ff5aa5",
   "metadata": {},
   "outputs": [],
   "source": [
    "# Define the path to the Zarr dataset\n",
    "# Open the Zarr store using xarray\n",
    "\n",
    "zoom_levels = [3,4,5,6,7,8,9,10]\n",
    "temp_res = 1\n",
    "\n",
    "zoom = 3; path = '/g/data/qx55/uk_node/glm.n2560_RAL3p3/data.healpix.PT%iH.z%i.zarr' % (temp_res, zoom)\n",
    "ds_3 = xr.open_zarr(path)\n",
    "\n",
    "zoom = 4; path = '/g/data/qx55/uk_node/glm.n2560_RAL3p3/data.healpix.PT%iH.z%i.zarr' % (temp_res, zoom)\n",
    "ds_4 = xr.open_zarr(path)\n",
    "\n",
    "zoom = 5; path = '/g/data/qx55/uk_node/glm.n2560_RAL3p3/data.healpix.PT%iH.z%i.zarr' % (temp_res, zoom)\n",
    "ds_5 = xr.open_zarr(path)\n",
    "\n",
    "zoom = 6; path = '/g/data/qx55/uk_node/glm.n2560_RAL3p3/data.healpix.PT%iH.z%i.zarr' % (temp_res, zoom)\n",
    "ds_6 = xr.open_zarr(path)\n",
    "\n",
    "zoom = 7; path = '/g/data/qx55/uk_node/glm.n2560_RAL3p3/data.healpix.PT%iH.z%i.zarr' % (temp_res, zoom)\n",
    "ds_7 = xr.open_zarr(path)\n",
    "\n",
    "zoom = 8; path = '/g/data/qx55/uk_node/glm.n2560_RAL3p3/data.healpix.PT%iH.z%i.zarr' % (temp_res, zoom)\n",
    "ds_8 = xr.open_zarr(path)\n",
    "\n",
    "zoom = 9; path = '/g/data/qx55/uk_node/glm.n2560_RAL3p3/data.healpix.PT%iH.z%i.zarr' % (temp_res, zoom)\n",
    "ds_9 = xr.open_zarr(path)\n",
    "\n",
    "zoom = 10; path = '/g/data/qx55/uk_node/glm.n2560_RAL3p3/data.healpix.PT%iH.z%i.zarr' % (temp_res, zoom)\n",
    "ds_10 = xr.open_zarr(path)\n",
    "\n",
    "\n",
    "ds_dict = {3:ds_3.pr, 4:ds_4.pr, 5:ds_5.pr, 6:ds_6.pr, 7:ds_7.pr, 8:ds_8.pr, 9:ds_9.pr, 10:ds_10.pr}\n"
   ]
  },
  {
   "cell_type": "code",
   "execution_count": 4,
   "id": "c132b72c-2475-40c0-87b0-5808ada37f1e",
   "metadata": {},
   "outputs": [
    {
     "name": "stdout",
     "output_type": "stream",
     "text": [
      "12582912 1024\n"
     ]
    }
   ],
   "source": [
    "# Get Healpix NSIDE\n",
    "n_cells = len(ds_10['cell'])\n",
    "nside = hp.npix2nside(n_cells)\n",
    "print(n_cells, nside)"
   ]
  },
  {
   "cell_type": "code",
   "execution_count": 5,
   "id": "8ebfd5bc-5770-4ea4-9ef1-a2098278575b",
   "metadata": {},
   "outputs": [],
   "source": [
    "# Get lat/lon of Healpix pixels\n",
    "theta, phi = hp.pix2ang(nside, np.arange(n_cells))  # theta: colatitude, phi: longitude\n",
    "lat_heal = np.degrees(0.5 * np.pi - theta)\n",
    "lon_heal = np.degrees(phi)"
   ]
  },
  {
   "cell_type": "code",
   "execution_count": 10,
   "id": "31ea6810-62ab-4f83-baf7-5a908cfa6fff",
   "metadata": {},
   "outputs": [
    {
     "name": "stdout",
     "output_type": "stream",
     "text": [
      "[150.7281, 151.5766, -33.9465, -33.2814]\n"
     ]
    }
   ],
   "source": [
    "# Get domain for Sydney\n",
    "\n",
    "# Read in weather station data\n",
    "ws = pd.read_excel('hk25-AusNode-ExtremePrecipitation/Syd_station_info.xlsx')\n",
    "\n",
    "# Create lat / lon arrays\n",
    "lon = ws['Longitude']\n",
    "lat = ws['Latitude']\n",
    "ws_names = ws['Station_name']\n",
    "\n",
    "# Get boundary of points\n",
    "margin = 0\n",
    "lon_min = min(lon)-margin\n",
    "lon_max = max(lon)+margin\n",
    "lat_min = min(lat)-margin\n",
    "lat_max = max(lat)+margin\n",
    "bounds = [lon_min, lon_max, lat_min, lat_max]\n",
    "print(bounds)"
   ]
  },
  {
   "cell_type": "code",
   "execution_count": 11,
   "id": "08faaf34-2c71-4c59-bbc4-426a2836848b",
   "metadata": {},
   "outputs": [
    {
     "name": "stdout",
     "output_type": "stream",
     "text": [
      "The number of cells in the domain =  150\n"
     ]
    }
   ],
   "source": [
    "# Find pixels in bounding box\n",
    "#in_box = (lon_min >= lon_heal) & (lon_max <= np.roll(lon_heal, 1)) & (lat_min >= lat_heal) & (lat_max <= np.roll(lat_heal, 1))\n",
    "in_box = (lon_heal >= lon_min) & (lon_heal <= lon_max) & (lat_heal >= lat_min) & (lat_heal <= lat_max)\n",
    "subset_cells = np.where(in_box)[0]\n",
    "print(\"The number of cells in the domain = \", sum(in_box))"
   ]
  },
  {
   "cell_type": "code",
   "execution_count": 16,
   "id": "ee6d6fa0-b2ad-4a9f-a127-6755c9aa8212",
   "metadata": {},
   "outputs": [
    {
     "name": "stdout",
     "output_type": "stream",
     "text": [
      "<xarray.DataArray 'pr' (time: 10489, cell: 150)> Size: 13MB\n",
      "dask.array<mul, shape=(10489, 150), dtype=float64, chunksize=(1, 150), chunktype=numpy.ndarray>\n",
      "Coordinates:\n",
      "  * cell     (cell) int64 1kB 9744051 9744052 9744053 ... 9801403 9801404\n",
      "    crs      float64 8B ...\n",
      "  * time     (time) datetime64[ns] 84kB 2020-01-20 ... 2021-04-01\n"
     ]
    }
   ],
   "source": [
    "# Subset the dataset for Sydney\n",
    "ds_10_S = ds_10.sel(cell=subset_cells)\n",
    "pr_10_S = ds_10_S.pr * 86400\n",
    "# The cropped precipitation data for Sydney is pr_10_S\n",
    "print(pr_10_S)"
   ]
  },
  {
   "cell_type": "code",
   "execution_count": 17,
   "id": "2d8fec73-202f-48e0-83aa-58c183bec3e9",
   "metadata": {},
   "outputs": [
    {
     "data": {
      "text/plain": [
       "[<matplotlib.lines.Line2D at 0x14ce2da934f0>]"
      ]
     },
     "execution_count": 17,
     "metadata": {},
     "output_type": "execute_result"
    },
    {
     "data": {
      "image/png": "[encoded data removed]",
      "text/plain": [
       "<Figure size 640x480 with 1 Axes>"
      ]
     },
     "metadata": {},
     "output_type": "display_data"
    }
   ],
   "source": [
    "pr_10_S.isel(time=10).plot()"
   ]
  }
 ],
 "metadata": {
  "kernelspec": {
   "display_name": "hackathon_kernel",
   "language": "python",
   "name": "hackathon_env"
  },
  "language_info": {
   "codemirror_mode": {
    "name": "ipython",
    "version": 3
   },
   "file_extension": ".py",
   "mimetype": "text/x-python",
   "name": "python",
   "nbconvert_exporter": "python",
   "pygments_lexer": "ipython3",
   "version": "3.10.14"
  }
 },
 "nbformat": 4,
 "nbformat_minor": 5
}
